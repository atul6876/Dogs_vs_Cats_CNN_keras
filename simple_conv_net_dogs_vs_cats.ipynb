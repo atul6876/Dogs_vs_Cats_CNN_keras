{
 "cells": [
  {
   "cell_type": "code",
   "execution_count": 1,
   "metadata": {},
   "outputs": [
    {
     "name": "stderr",
     "output_type": "stream",
     "text": [
      "Using TensorFlow backend.\n"
     ]
    }
   ],
   "source": [
    "import pandas as pd\n",
    "import numpy as np\n",
    "import matplotlib.pyplot as plt\n",
    "\n",
    "from keras.preprocessing.image import ImageDataGenerator\n",
    "from keras.models import Sequential, model_from_json\n",
    "from keras.layers import Conv2D, MaxPooling2D\n",
    "from keras.layers import Activation, Dropout, Flatten, Dense\n",
    "from keras import backend as K\n",
    "\n",
    "import warnings\n",
    "warnings.filterwarnings('ignore', category = DeprecationWarning)"
   ]
  },
  {
   "cell_type": "code",
   "execution_count": 2,
   "metadata": {},
   "outputs": [],
   "source": [
    "# dimensions of our images.\n",
    "\n",
    "img_width, img_height = 150, 150\n",
    "\n",
    "train_data_dir = 'data/train'\n",
    "validation_data_dir = 'data/validation'\n",
    "\n",
    "nb_train_samples = 2000\n",
    "nb_validation_samples = 800\n",
    "\n",
    "epochs = 10\n",
    "batch_size = 16"
   ]
  },
  {
   "cell_type": "code",
   "execution_count": 3,
   "metadata": {},
   "outputs": [],
   "source": [
    "if K.image_data_format() == 'channels_first':\n",
    "    input_shape = (3, img_width, img_height)\n",
    "else:\n",
    "    input_shape = (img_width, img_height, 3)"
   ]
  },
  {
   "cell_type": "code",
   "execution_count": 4,
   "metadata": {},
   "outputs": [
    {
     "name": "stderr",
     "output_type": "stream",
     "text": [
      "WARNING: Logging before flag parsing goes to stderr.\n",
      "W0818 10:44:25.199241  9336 deprecation_wrapper.py:119] From C:\\Users\\atuls\\Anaconda3\\lib\\site-packages\\keras\\backend\\tensorflow_backend.py:74: The name tf.get_default_graph is deprecated. Please use tf.compat.v1.get_default_graph instead.\n",
      "\n",
      "W0818 10:44:25.218584  9336 deprecation_wrapper.py:119] From C:\\Users\\atuls\\Anaconda3\\lib\\site-packages\\keras\\backend\\tensorflow_backend.py:529: The name tf.placeholder is deprecated. Please use tf.compat.v1.placeholder instead.\n",
      "\n",
      "W0818 10:44:25.221809  9336 deprecation_wrapper.py:119] From C:\\Users\\atuls\\Anaconda3\\lib\\site-packages\\keras\\backend\\tensorflow_backend.py:4420: The name tf.random_uniform is deprecated. Please use tf.random.uniform instead.\n",
      "\n",
      "W0818 10:44:25.239809  9336 deprecation_wrapper.py:119] From C:\\Users\\atuls\\Anaconda3\\lib\\site-packages\\keras\\backend\\tensorflow_backend.py:4255: The name tf.nn.max_pool is deprecated. Please use tf.nn.max_pool2d instead.\n",
      "\n",
      "W0818 10:44:25.316704  9336 deprecation_wrapper.py:119] From C:\\Users\\atuls\\Anaconda3\\lib\\site-packages\\keras\\backend\\tensorflow_backend.py:136: The name tf.placeholder_with_default is deprecated. Please use tf.compat.v1.placeholder_with_default instead.\n",
      "\n",
      "W0818 10:44:25.329275  9336 deprecation.py:506] From C:\\Users\\atuls\\Anaconda3\\lib\\site-packages\\keras\\backend\\tensorflow_backend.py:3721: calling dropout (from tensorflow.python.ops.nn_ops) with keep_prob is deprecated and will be removed in a future version.\n",
      "Instructions for updating:\n",
      "Please use `rate` instead of `keep_prob`. Rate should be set to `rate = 1 - keep_prob`.\n"
     ]
    }
   ],
   "source": [
    "model = Sequential()\n",
    "model.add(Conv2D(32, (3, 3), input_shape=input_shape))\n",
    "model.add(Activation('relu'))\n",
    "model.add(MaxPooling2D(pool_size=(2, 2)))\n",
    "\n",
    "model.add(Conv2D(32, (3, 3)))\n",
    "model.add(Activation('relu'))\n",
    "model.add(MaxPooling2D(pool_size=(2, 2)))\n",
    "\n",
    "model.add(Conv2D(64, (3, 3)))\n",
    "model.add(Activation('relu'))\n",
    "model.add(MaxPooling2D(pool_size=(2, 2)))\n",
    "\n",
    "model.add(Flatten())\n",
    "model.add(Dense(64))\n",
    "model.add(Activation('relu'))\n",
    "model.add(Dropout(0.5))\n",
    "model.add(Dense(1))\n",
    "model.add(Activation('sigmoid'))"
   ]
  },
  {
   "cell_type": "code",
   "execution_count": 5,
   "metadata": {},
   "outputs": [
    {
     "name": "stderr",
     "output_type": "stream",
     "text": [
      "W0818 10:44:25.403681  9336 deprecation_wrapper.py:119] From C:\\Users\\atuls\\Anaconda3\\lib\\site-packages\\keras\\optimizers.py:793: The name tf.train.Optimizer is deprecated. Please use tf.compat.v1.train.Optimizer instead.\n",
      "\n",
      "W0818 10:44:25.439220  9336 deprecation_wrapper.py:119] From C:\\Users\\atuls\\Anaconda3\\lib\\site-packages\\keras\\backend\\tensorflow_backend.py:3645: The name tf.log is deprecated. Please use tf.math.log instead.\n",
      "\n",
      "W0818 10:44:25.444870  9336 deprecation.py:323] From C:\\Users\\atuls\\Anaconda3\\lib\\site-packages\\tensorflow\\python\\ops\\nn_impl.py:180: add_dispatch_support.<locals>.wrapper (from tensorflow.python.ops.array_ops) is deprecated and will be removed in a future version.\n",
      "Instructions for updating:\n",
      "Use tf.where in 2.0, which has the same broadcast rule as np.where\n"
     ]
    }
   ],
   "source": [
    "model.compile(loss='binary_crossentropy',\n",
    "              optimizer='rmsprop',\n",
    "              metrics=['accuracy'])"
   ]
  },
  {
   "cell_type": "code",
   "execution_count": 6,
   "metadata": {},
   "outputs": [],
   "source": [
    "train_datagen = ImageDataGenerator(\n",
    "    rescale=1. / 255,\n",
    "    shear_range=0.2,\n",
    "    zoom_range=0.2,\n",
    "    horizontal_flip=True)"
   ]
  },
  {
   "cell_type": "code",
   "execution_count": 7,
   "metadata": {},
   "outputs": [],
   "source": [
    "test_datagen = ImageDataGenerator(rescale=1./255)"
   ]
  },
  {
   "cell_type": "code",
   "execution_count": 8,
   "metadata": {},
   "outputs": [
    {
     "name": "stdout",
     "output_type": "stream",
     "text": [
      "Found 2000 images belonging to 2 classes.\n",
      "Found 800 images belonging to 2 classes.\n"
     ]
    }
   ],
   "source": [
    "train_generator = train_datagen.flow_from_directory(\n",
    "    train_data_dir,\n",
    "    target_size=(img_width, img_height),\n",
    "    batch_size=batch_size,\n",
    "    class_mode='binary')\n",
    "\n",
    "validation_generator = test_datagen.flow_from_directory(\n",
    "    validation_data_dir,\n",
    "    target_size=(img_width, img_height),\n",
    "    batch_size=batch_size,\n",
    "    class_mode='binary')"
   ]
  },
  {
   "cell_type": "code",
   "execution_count": 9,
   "metadata": {},
   "outputs": [
    {
     "name": "stdout",
     "output_type": "stream",
     "text": [
      "Epoch 1/10\n",
      "125/125 [==============================] - 56s 450ms/step - loss: 0.7030 - acc: 0.5290 - val_loss: 0.6786 - val_acc: 0.5038\n",
      "Epoch 2/10\n",
      "125/125 [==============================] - 56s 445ms/step - loss: 0.6908 - acc: 0.6030 - val_loss: 0.6637 - val_acc: 0.5900\n",
      "Epoch 3/10\n",
      "125/125 [==============================] - 55s 439ms/step - loss: 0.6397 - acc: 0.6420 - val_loss: 0.6235 - val_acc: 0.6425\n",
      "Epoch 4/10\n",
      "125/125 [==============================] - 57s 454ms/step - loss: 0.6231 - acc: 0.6625 - val_loss: 0.6328 - val_acc: 0.6338\n",
      "Epoch 5/10\n",
      "125/125 [==============================] - 55s 440ms/step - loss: 0.6098 - acc: 0.6655 - val_loss: 0.5791 - val_acc: 0.6937\n",
      "Epoch 6/10\n",
      "125/125 [==============================] - 57s 455ms/step - loss: 0.5978 - acc: 0.6785 - val_loss: 0.6191 - val_acc: 0.6350\n",
      "Epoch 7/10\n",
      "125/125 [==============================] - 56s 447ms/step - loss: 0.5780 - acc: 0.6990 - val_loss: 0.7884 - val_acc: 0.5975\n",
      "Epoch 8/10\n",
      "125/125 [==============================] - 52s 414ms/step - loss: 0.5606 - acc: 0.7120 - val_loss: 0.6943 - val_acc: 0.6837\n",
      "Epoch 9/10\n",
      "125/125 [==============================] - 53s 421ms/step - loss: 0.5566 - acc: 0.7240 - val_loss: 0.5295 - val_acc: 0.7250\n",
      "Epoch 10/10\n",
      "125/125 [==============================] - 58s 467ms/step - loss: 0.5631 - acc: 0.7320 - val_loss: 0.5237 - val_acc: 0.7312\n",
      "Saved model to disk\n",
      "Saved full model to disk\n"
     ]
    }
   ],
   "source": [
    "model.fit_generator(\n",
    "        train_generator,\n",
    "        steps_per_epoch=2000 // batch_size,\n",
    "        epochs=epochs,\n",
    "        validation_data=validation_generator,\n",
    "        validation_steps=800 // batch_size)\n",
    "\n",
    "model_json = model.to_json()\n",
    "with open(\"model.json\", \"w\") as json_file:\n",
    "    json_file.write(model_json)\n",
    "# serialize weights to HDF5\n",
    "model.save_weights(\"model.h5\")\n",
    "print(\"Saved model to disk\")\n",
    "\n",
    "# save model and architecture to single file\n",
    "model.save(\"full_model.h5\")\n",
    "print(\"Saved full model to disk\")"
   ]
  },
  {
   "cell_type": "code",
   "execution_count": 10,
   "metadata": {},
   "outputs": [
    {
     "name": "stdout",
     "output_type": "stream",
     "text": [
      "Loaded model from disk\n"
     ]
    }
   ],
   "source": [
    "# load json and create model\n",
    "json_file = open('model.json', 'r')\n",
    "loaded_model_json = json_file.read()\n",
    "json_file.close()\n",
    "loaded_model = model_from_json(loaded_model_json)\n",
    "# load weights into new model\n",
    "loaded_model.load_weights(\"model.h5\")\n",
    "print(\"Loaded model from disk\")"
   ]
  },
  {
   "cell_type": "code",
   "execution_count": 11,
   "metadata": {},
   "outputs": [
    {
     "name": "stdout",
     "output_type": "stream",
     "text": [
      "('{\"class_name\": \"Sequential\", \"config\": {\"name\": \"sequential_1\", \"layers\": '\n",
      " '[{\"class_name\": \"Conv2D\", \"config\": {\"name\": \"conv2d_1\", \"trainable\": true, '\n",
      " '\"batch_input_shape\": [null, 150, 150, 3], \"dtype\": \"float32\", \"filters\": 32, '\n",
      " '\"kernel_size\": [3, 3], \"strides\": [1, 1], \"padding\": \"valid\", \"data_format\": '\n",
      " '\"channels_last\", \"dilation_rate\": [1, 1], \"activation\": \"linear\", '\n",
      " '\"use_bias\": true, \"kernel_initializer\": {\"class_name\": \"VarianceScaling\", '\n",
      " '\"config\": {\"scale\": 1.0, \"mode\": \"fan_avg\", \"distribution\": \"uniform\", '\n",
      " '\"seed\": null}}, \"bias_initializer\": {\"class_name\": \"Zeros\", \"config\": {}}, '\n",
      " '\"kernel_regularizer\": null, \"bias_regularizer\": null, '\n",
      " '\"activity_regularizer\": null, \"kernel_constraint\": null, \"bias_constraint\": '\n",
      " 'null}}, {\"class_name\": \"Activation\", \"config\": {\"name\": \"activation_1\", '\n",
      " '\"trainable\": true, \"dtype\": \"float32\", \"activation\": \"relu\"}}, '\n",
      " '{\"class_name\": \"MaxPooling2D\", \"config\": {\"name\": \"max_pooling2d_1\", '\n",
      " '\"trainable\": true, \"dtype\": \"float32\", \"pool_size\": [2, 2], \"padding\": '\n",
      " '\"valid\", \"strides\": [2, 2], \"data_format\": \"channels_last\"}}, {\"class_name\": '\n",
      " '\"Conv2D\", \"config\": {\"name\": \"conv2d_2\", \"trainable\": true, \"dtype\": '\n",
      " '\"float32\", \"filters\": 32, \"kernel_size\": [3, 3], \"strides\": [1, 1], '\n",
      " '\"padding\": \"valid\", \"data_format\": \"channels_last\", \"dilation_rate\": [1, 1], '\n",
      " '\"activation\": \"linear\", \"use_bias\": true, \"kernel_initializer\": '\n",
      " '{\"class_name\": \"VarianceScaling\", \"config\": {\"scale\": 1.0, \"mode\": '\n",
      " '\"fan_avg\", \"distribution\": \"uniform\", \"seed\": null}}, \"bias_initializer\": '\n",
      " '{\"class_name\": \"Zeros\", \"config\": {}}, \"kernel_regularizer\": null, '\n",
      " '\"bias_regularizer\": null, \"activity_regularizer\": null, \"kernel_constraint\": '\n",
      " 'null, \"bias_constraint\": null}}, {\"class_name\": \"Activation\", \"config\": '\n",
      " '{\"name\": \"activation_2\", \"trainable\": true, \"dtype\": \"float32\", '\n",
      " '\"activation\": \"relu\"}}, {\"class_name\": \"MaxPooling2D\", \"config\": {\"name\": '\n",
      " '\"max_pooling2d_2\", \"trainable\": true, \"dtype\": \"float32\", \"pool_size\": [2, '\n",
      " '2], \"padding\": \"valid\", \"strides\": [2, 2], \"data_format\": \"channels_last\"}}, '\n",
      " '{\"class_name\": \"Conv2D\", \"config\": {\"name\": \"conv2d_3\", \"trainable\": true, '\n",
      " '\"dtype\": \"float32\", \"filters\": 64, \"kernel_size\": [3, 3], \"strides\": [1, 1], '\n",
      " '\"padding\": \"valid\", \"data_format\": \"channels_last\", \"dilation_rate\": [1, 1], '\n",
      " '\"activation\": \"linear\", \"use_bias\": true, \"kernel_initializer\": '\n",
      " '{\"class_name\": \"VarianceScaling\", \"config\": {\"scale\": 1.0, \"mode\": '\n",
      " '\"fan_avg\", \"distribution\": \"uniform\", \"seed\": null}}, \"bias_initializer\": '\n",
      " '{\"class_name\": \"Zeros\", \"config\": {}}, \"kernel_regularizer\": null, '\n",
      " '\"bias_regularizer\": null, \"activity_regularizer\": null, \"kernel_constraint\": '\n",
      " 'null, \"bias_constraint\": null}}, {\"class_name\": \"Activation\", \"config\": '\n",
      " '{\"name\": \"activation_3\", \"trainable\": true, \"dtype\": \"float32\", '\n",
      " '\"activation\": \"relu\"}}, {\"class_name\": \"MaxPooling2D\", \"config\": {\"name\": '\n",
      " '\"max_pooling2d_3\", \"trainable\": true, \"dtype\": \"float32\", \"pool_size\": [2, '\n",
      " '2], \"padding\": \"valid\", \"strides\": [2, 2], \"data_format\": \"channels_last\"}}, '\n",
      " '{\"class_name\": \"Flatten\", \"config\": {\"name\": \"flatten_1\", \"trainable\": true, '\n",
      " '\"dtype\": \"float32\", \"data_format\": \"channels_last\"}}, {\"class_name\": '\n",
      " '\"Dense\", \"config\": {\"name\": \"dense_1\", \"trainable\": true, \"dtype\": '\n",
      " '\"float32\", \"units\": 64, \"activation\": \"linear\", \"use_bias\": true, '\n",
      " '\"kernel_initializer\": {\"class_name\": \"VarianceScaling\", \"config\": {\"scale\": '\n",
      " '1.0, \"mode\": \"fan_avg\", \"distribution\": \"uniform\", \"seed\": null}}, '\n",
      " '\"bias_initializer\": {\"class_name\": \"Zeros\", \"config\": {}}, '\n",
      " '\"kernel_regularizer\": null, \"bias_regularizer\": null, '\n",
      " '\"activity_regularizer\": null, \"kernel_constraint\": null, \"bias_constraint\": '\n",
      " 'null}}, {\"class_name\": \"Activation\", \"config\": {\"name\": \"activation_4\", '\n",
      " '\"trainable\": true, \"dtype\": \"float32\", \"activation\": \"relu\"}}, '\n",
      " '{\"class_name\": \"Dropout\", \"config\": {\"name\": \"dropout_1\", \"trainable\": true, '\n",
      " '\"dtype\": \"float32\", \"rate\": 0.5, \"noise_shape\": null, \"seed\": null}}, '\n",
      " '{\"class_name\": \"Dense\", \"config\": {\"name\": \"dense_2\", \"trainable\": true, '\n",
      " '\"dtype\": \"float32\", \"units\": 1, \"activation\": \"linear\", \"use_bias\": true, '\n",
      " '\"kernel_initializer\": {\"class_name\": \"VarianceScaling\", \"config\": {\"scale\": '\n",
      " '1.0, \"mode\": \"fan_avg\", \"distribution\": \"uniform\", \"seed\": null}}, '\n",
      " '\"bias_initializer\": {\"class_name\": \"Zeros\", \"config\": {}}, '\n",
      " '\"kernel_regularizer\": null, \"bias_regularizer\": null, '\n",
      " '\"activity_regularizer\": null, \"kernel_constraint\": null, \"bias_constraint\": '\n",
      " 'null}}, {\"class_name\": \"Activation\", \"config\": {\"name\": \"activation_5\", '\n",
      " '\"trainable\": true, \"dtype\": \"float32\", \"activation\": \"sigmoid\"}}]}, '\n",
      " '\"keras_version\": \"2.2.4\", \"backend\": \"tensorflow\"}')\n"
     ]
    }
   ],
   "source": [
    "import pprint\n",
    "pprint.pprint(model_json)"
   ]
  },
  {
   "cell_type": "code",
   "execution_count": 13,
   "metadata": {},
   "outputs": [
    {
     "name": "stdout",
     "output_type": "stream",
     "text": [
      "Model: \"sequential_1\"\n",
      "_________________________________________________________________\n",
      "Layer (type)                 Output Shape              Param #   \n",
      "=================================================================\n",
      "conv2d_1 (Conv2D)            (None, 148, 148, 32)      896       \n",
      "_________________________________________________________________\n",
      "activation_1 (Activation)    (None, 148, 148, 32)      0         \n",
      "_________________________________________________________________\n",
      "max_pooling2d_1 (MaxPooling2 (None, 74, 74, 32)        0         \n",
      "_________________________________________________________________\n",
      "conv2d_2 (Conv2D)            (None, 72, 72, 32)        9248      \n",
      "_________________________________________________________________\n",
      "activation_2 (Activation)    (None, 72, 72, 32)        0         \n",
      "_________________________________________________________________\n",
      "max_pooling2d_2 (MaxPooling2 (None, 36, 36, 32)        0         \n",
      "_________________________________________________________________\n",
      "conv2d_3 (Conv2D)            (None, 34, 34, 64)        18496     \n",
      "_________________________________________________________________\n",
      "activation_3 (Activation)    (None, 34, 34, 64)        0         \n",
      "_________________________________________________________________\n",
      "max_pooling2d_3 (MaxPooling2 (None, 17, 17, 64)        0         \n",
      "_________________________________________________________________\n",
      "flatten_1 (Flatten)          (None, 18496)             0         \n",
      "_________________________________________________________________\n",
      "dense_1 (Dense)              (None, 64)                1183808   \n",
      "_________________________________________________________________\n",
      "activation_4 (Activation)    (None, 64)                0         \n",
      "_________________________________________________________________\n",
      "dropout_1 (Dropout)          (None, 64)                0         \n",
      "_________________________________________________________________\n",
      "dense_2 (Dense)              (None, 1)                 65        \n",
      "_________________________________________________________________\n",
      "activation_5 (Activation)    (None, 1)                 0         \n",
      "=================================================================\n",
      "Total params: 1,212,513\n",
      "Trainable params: 1,212,513\n",
      "Non-trainable params: 0\n",
      "_________________________________________________________________\n"
     ]
    }
   ],
   "source": [
    "from keras.models import load_model\n",
    " \n",
    "# load model\n",
    "full_model = load_model('full_model.h5')\n",
    "# summarize model.\n",
    "full_model.summary()"
   ]
  },
  {
   "cell_type": "code",
   "execution_count": null,
   "metadata": {},
   "outputs": [],
   "source": []
  }
 ],
 "metadata": {
  "kernelspec": {
   "display_name": "Python 3",
   "language": "python",
   "name": "python3"
  },
  "language_info": {
   "codemirror_mode": {
    "name": "ipython",
    "version": 3
   },
   "file_extension": ".py",
   "mimetype": "text/x-python",
   "name": "python",
   "nbconvert_exporter": "python",
   "pygments_lexer": "ipython3",
   "version": "3.7.3"
  }
 },
 "nbformat": 4,
 "nbformat_minor": 2
}
