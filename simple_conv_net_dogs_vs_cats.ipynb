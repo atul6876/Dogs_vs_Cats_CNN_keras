{
 "cells": [
  {
   "cell_type": "code",
   "execution_count": 1,
   "metadata": {},
   "outputs": [
    {
     "name": "stderr",
     "output_type": "stream",
     "text": [
      "Using TensorFlow backend.\n"
     ]
    }
   ],
   "source": [
    "import pandas as pd\n",
    "import numpy as np\n",
    "import matplotlib.pyplot as plt\n",
    "\n",
    "from keras.preprocessing.image import ImageDataGenerator\n",
    "from keras.models import Sequential\n",
    "from keras.layers import Conv2D, MaxPooling2D\n",
    "from keras.layers import Activation, Dropout, Flatten, Dense\n",
    "from keras import backend as K\n",
    "\n",
    "import warnings\n",
    "warnings.filterwarnings('ignore', category = DeprecationWarning)"
   ]
  },
  {
   "cell_type": "code",
   "execution_count": 2,
   "metadata": {},
   "outputs": [],
   "source": [
    "# dimensions of our images.\n",
    "\n",
    "img_width, img_height = 150, 150\n",
    "\n",
    "train_data_dir = 'data/train'\n",
    "validation_data_dir = 'data/validation'\n",
    "\n",
    "nb_train_samples = 2000\n",
    "nb_validation_samples = 800\n",
    "\n",
    "epochs = 50\n",
    "batch_size = 16"
   ]
  },
  {
   "cell_type": "code",
   "execution_count": 3,
   "metadata": {},
   "outputs": [],
   "source": [
    "if K.image_data_format() == 'channels_first':\n",
    "    input_shape = (3, img_width, img_height)\n",
    "else:\n",
    "    input_shape = (img_width, img_height, 3)"
   ]
  },
  {
   "cell_type": "code",
   "execution_count": 4,
   "metadata": {},
   "outputs": [
    {
     "name": "stderr",
     "output_type": "stream",
     "text": [
      "WARNING: Logging before flag parsing goes to stderr.\n",
      "W0815 17:23:24.509138  9968 deprecation_wrapper.py:119] From C:\\Users\\atuls\\Anaconda3\\lib\\site-packages\\keras\\backend\\tensorflow_backend.py:74: The name tf.get_default_graph is deprecated. Please use tf.compat.v1.get_default_graph instead.\n",
      "\n",
      "W0815 17:23:24.522540  9968 deprecation_wrapper.py:119] From C:\\Users\\atuls\\Anaconda3\\lib\\site-packages\\keras\\backend\\tensorflow_backend.py:517: The name tf.placeholder is deprecated. Please use tf.compat.v1.placeholder instead.\n",
      "\n",
      "W0815 17:23:24.522540  9968 deprecation_wrapper.py:119] From C:\\Users\\atuls\\Anaconda3\\lib\\site-packages\\keras\\backend\\tensorflow_backend.py:4138: The name tf.random_uniform is deprecated. Please use tf.random.uniform instead.\n",
      "\n",
      "W0815 17:23:24.538634  9968 deprecation_wrapper.py:119] From C:\\Users\\atuls\\Anaconda3\\lib\\site-packages\\keras\\backend\\tensorflow_backend.py:3976: The name tf.nn.max_pool is deprecated. Please use tf.nn.max_pool2d instead.\n",
      "\n",
      "W0815 17:23:24.598620  9968 deprecation_wrapper.py:119] From C:\\Users\\atuls\\Anaconda3\\lib\\site-packages\\keras\\backend\\tensorflow_backend.py:133: The name tf.placeholder_with_default is deprecated. Please use tf.compat.v1.placeholder_with_default instead.\n",
      "\n",
      "W0815 17:23:24.602880  9968 deprecation.py:506] From C:\\Users\\atuls\\Anaconda3\\lib\\site-packages\\keras\\backend\\tensorflow_backend.py:3445: calling dropout (from tensorflow.python.ops.nn_ops) with keep_prob is deprecated and will be removed in a future version.\n",
      "Instructions for updating:\n",
      "Please use `rate` instead of `keep_prob`. Rate should be set to `rate = 1 - keep_prob`.\n"
     ]
    }
   ],
   "source": [
    "model = Sequential()\n",
    "model.add(Conv2D(32, (3, 3), input_shape=input_shape))\n",
    "model.add(Activation('relu'))\n",
    "model.add(MaxPooling2D(pool_size=(2, 2)))\n",
    "\n",
    "model.add(Conv2D(32, (3, 3)))\n",
    "model.add(Activation('relu'))\n",
    "model.add(MaxPooling2D(pool_size=(2, 2)))\n",
    "\n",
    "model.add(Conv2D(64, (3, 3)))\n",
    "model.add(Activation('relu'))\n",
    "model.add(MaxPooling2D(pool_size=(2, 2)))\n",
    "\n",
    "model.add(Flatten())\n",
    "model.add(Dense(64))\n",
    "model.add(Activation('relu'))\n",
    "model.add(Dropout(0.5))\n",
    "model.add(Dense(1))\n",
    "model.add(Activation('sigmoid'))"
   ]
  },
  {
   "cell_type": "code",
   "execution_count": 5,
   "metadata": {},
   "outputs": [
    {
     "name": "stderr",
     "output_type": "stream",
     "text": [
      "W0815 17:23:24.637355  9968 deprecation_wrapper.py:119] From C:\\Users\\atuls\\Anaconda3\\lib\\site-packages\\keras\\optimizers.py:790: The name tf.train.Optimizer is deprecated. Please use tf.compat.v1.train.Optimizer instead.\n",
      "\n",
      "W0815 17:23:24.654188  9968 deprecation_wrapper.py:119] From C:\\Users\\atuls\\Anaconda3\\lib\\site-packages\\keras\\backend\\tensorflow_backend.py:3376: The name tf.log is deprecated. Please use tf.math.log instead.\n",
      "\n",
      "W0815 17:23:24.657779  9968 deprecation.py:323] From C:\\Users\\atuls\\Anaconda3\\lib\\site-packages\\tensorflow\\python\\ops\\nn_impl.py:180: add_dispatch_support.<locals>.wrapper (from tensorflow.python.ops.array_ops) is deprecated and will be removed in a future version.\n",
      "Instructions for updating:\n",
      "Use tf.where in 2.0, which has the same broadcast rule as np.where\n"
     ]
    }
   ],
   "source": [
    "model.compile(loss='binary_crossentropy',\n",
    "              optimizer='rmsprop',\n",
    "              metrics=['accuracy'])"
   ]
  },
  {
   "cell_type": "code",
   "execution_count": 6,
   "metadata": {},
   "outputs": [],
   "source": [
    "train_datagen = ImageDataGenerator(\n",
    "    rescale=1. / 255,\n",
    "    shear_range=0.2,\n",
    "    zoom_range=0.2,\n",
    "    horizontal_flip=True)"
   ]
  },
  {
   "cell_type": "code",
   "execution_count": 7,
   "metadata": {},
   "outputs": [],
   "source": [
    "test_datagen = ImageDataGenerator(rescale=1./255)"
   ]
  },
  {
   "cell_type": "code",
   "execution_count": 8,
   "metadata": {},
   "outputs": [
    {
     "name": "stdout",
     "output_type": "stream",
     "text": [
      "Found 2000 images belonging to 2 classes.\n",
      "Found 800 images belonging to 2 classes.\n"
     ]
    }
   ],
   "source": [
    "train_generator = train_datagen.flow_from_directory(\n",
    "    train_data_dir,\n",
    "    target_size=(img_width, img_height),\n",
    "    batch_size=batch_size,\n",
    "    class_mode='binary')\n",
    "\n",
    "validation_generator = test_datagen.flow_from_directory(\n",
    "    validation_data_dir,\n",
    "    target_size=(img_width, img_height),\n",
    "    batch_size=batch_size,\n",
    "    class_mode='binary')"
   ]
  },
  {
   "cell_type": "code",
   "execution_count": 9,
   "metadata": {},
   "outputs": [
    {
     "name": "stdout",
     "output_type": "stream",
     "text": [
      "Epoch 1/50\n",
      "125/125 [==============================] - 49s 396ms/step - loss: 0.7402 - acc: 0.4930 - val_loss: 0.6845 - val_acc: 0.5713\n",
      "Epoch 2/50\n",
      "125/125 [==============================] - 48s 384ms/step - loss: 0.6852 - acc: 0.5670 - val_loss: 0.6419 - val_acc: 0.6338\n",
      "Epoch 3/50\n",
      "125/125 [==============================] - 54s 428ms/step - loss: 0.6548 - acc: 0.6255 - val_loss: 0.6167 - val_acc: 0.6863\n",
      "Epoch 4/50\n",
      "125/125 [==============================] - 48s 386ms/step - loss: 0.6285 - acc: 0.6680 - val_loss: 0.5625 - val_acc: 0.7200\n",
      "Epoch 5/50\n",
      "125/125 [==============================] - 53s 423ms/step - loss: 0.5833 - acc: 0.7080 - val_loss: 0.5634 - val_acc: 0.7125\n",
      "Epoch 6/50\n",
      "125/125 [==============================] - 53s 422ms/step - loss: 0.5773 - acc: 0.6995 - val_loss: 0.5231 - val_acc: 0.7412\n",
      "Epoch 7/50\n",
      "125/125 [==============================] - 51s 404ms/step - loss: 0.5521 - acc: 0.7285 - val_loss: 0.5471 - val_acc: 0.7163\n",
      "Epoch 8/50\n",
      "125/125 [==============================] - 52s 416ms/step - loss: 0.5433 - acc: 0.7415 - val_loss: 0.5646 - val_acc: 0.6900\n",
      "Epoch 9/50\n",
      "125/125 [==============================] - 59s 476ms/step - loss: 0.5348 - acc: 0.7435 - val_loss: 0.5587 - val_acc: 0.7125\n",
      "Epoch 10/50\n",
      "125/125 [==============================] - 58s 461ms/step - loss: 0.5048 - acc: 0.7700 - val_loss: 0.5227 - val_acc: 0.7338\n",
      "Epoch 11/50\n",
      "125/125 [==============================] - 52s 414ms/step - loss: 0.5194 - acc: 0.7375 - val_loss: 0.5311 - val_acc: 0.7338\n",
      "Epoch 12/50\n",
      "125/125 [==============================] - 52s 417ms/step - loss: 0.5014 - acc: 0.7655 - val_loss: 0.5367 - val_acc: 0.7350\n",
      "Epoch 13/50\n",
      "125/125 [==============================] - 53s 427ms/step - loss: 0.4922 - acc: 0.7735 - val_loss: 0.5049 - val_acc: 0.7588\n",
      "Epoch 14/50\n",
      "125/125 [==============================] - 51s 411ms/step - loss: 0.4676 - acc: 0.7825 - val_loss: 0.5376 - val_acc: 0.7275\n",
      "Epoch 15/50\n",
      "125/125 [==============================] - 51s 409ms/step - loss: 0.4645 - acc: 0.7920 - val_loss: 0.4786 - val_acc: 0.7762\n",
      "Epoch 16/50\n",
      "125/125 [==============================] - 65s 517ms/step - loss: 0.4633 - acc: 0.7920 - val_loss: 0.5536 - val_acc: 0.7300\n",
      "Epoch 17/50\n",
      "125/125 [==============================] - 60s 479ms/step - loss: 0.4586 - acc: 0.7915 - val_loss: 0.4827 - val_acc: 0.7725\n",
      "Epoch 18/50\n",
      "125/125 [==============================] - 55s 437ms/step - loss: 0.4454 - acc: 0.7910 - val_loss: 0.4765 - val_acc: 0.7800\n",
      "Epoch 19/50\n",
      "125/125 [==============================] - 53s 422ms/step - loss: 0.4344 - acc: 0.8105 - val_loss: 0.4929 - val_acc: 0.7837\n",
      "Epoch 20/50\n",
      "125/125 [==============================] - 58s 463ms/step - loss: 0.4354 - acc: 0.8115 - val_loss: 0.4708 - val_acc: 0.7712\n",
      "Epoch 21/50\n",
      "125/125 [==============================] - 62s 493ms/step - loss: 0.4422 - acc: 0.8045 - val_loss: 0.4569 - val_acc: 0.7837\n",
      "Epoch 22/50\n",
      "125/125 [==============================] - 62s 496ms/step - loss: 0.4325 - acc: 0.8010 - val_loss: 0.4683 - val_acc: 0.7863\n",
      "Epoch 23/50\n",
      "125/125 [==============================] - 60s 482ms/step - loss: 0.4153 - acc: 0.8290 - val_loss: 0.5254 - val_acc: 0.7388\n",
      "Epoch 24/50\n",
      "125/125 [==============================] - 53s 424ms/step - loss: 0.4192 - acc: 0.8160 - val_loss: 0.5249 - val_acc: 0.7788\n",
      "Epoch 25/50\n",
      "125/125 [==============================] - 59s 471ms/step - loss: 0.4316 - acc: 0.8260 - val_loss: 0.5776 - val_acc: 0.7662\n",
      "Epoch 26/50\n",
      "125/125 [==============================] - 52s 417ms/step - loss: 0.4044 - acc: 0.8245 - val_loss: 0.4871 - val_acc: 0.7913\n",
      "Epoch 27/50\n",
      "125/125 [==============================] - 57s 458ms/step - loss: 0.4113 - acc: 0.8185 - val_loss: 0.5050 - val_acc: 0.7937\n",
      "Epoch 28/50\n",
      "125/125 [==============================] - 53s 425ms/step - loss: 0.4393 - acc: 0.8130 - val_loss: 0.5209 - val_acc: 0.7688\n",
      "Epoch 29/50\n",
      "125/125 [==============================] - 56s 446ms/step - loss: 0.4057 - acc: 0.8190 - val_loss: 0.6678 - val_acc: 0.7612\n",
      "Epoch 30/50\n",
      "125/125 [==============================] - 55s 437ms/step - loss: 0.4043 - acc: 0.8290 - val_loss: 0.5398 - val_acc: 0.7837\n",
      "Epoch 31/50\n",
      "125/125 [==============================] - 57s 454ms/step - loss: 0.4161 - acc: 0.8195 - val_loss: 0.4908 - val_acc: 0.8013\n",
      "Epoch 32/50\n",
      "125/125 [==============================] - 52s 417ms/step - loss: 0.3875 - acc: 0.8330 - val_loss: 0.5528 - val_acc: 0.7875\n",
      "Epoch 33/50\n",
      "125/125 [==============================] - 57s 457ms/step - loss: 0.3875 - acc: 0.8225 - val_loss: 0.5522 - val_acc: 0.7562\n",
      "Epoch 34/50\n",
      "125/125 [==============================] - 52s 417ms/step - loss: 0.4152 - acc: 0.8190 - val_loss: 0.5260 - val_acc: 0.7800\n",
      "Epoch 35/50\n",
      "125/125 [==============================] - 51s 404ms/step - loss: 0.4039 - acc: 0.8385 - val_loss: 0.4703 - val_acc: 0.7937\n",
      "Epoch 36/50\n",
      "125/125 [==============================] - 60s 476ms/step - loss: 0.4046 - acc: 0.8315 - val_loss: 0.5102 - val_acc: 0.7812\n",
      "Epoch 37/50\n",
      "125/125 [==============================] - 60s 477ms/step - loss: 0.3840 - acc: 0.8405 - val_loss: 0.5513 - val_acc: 0.7400\n",
      "Epoch 38/50\n",
      "125/125 [==============================] - 51s 410ms/step - loss: 0.3941 - acc: 0.8240 - val_loss: 0.5184 - val_acc: 0.7800\n",
      "Epoch 39/50\n",
      "125/125 [==============================] - 51s 405ms/step - loss: 0.3878 - acc: 0.8350 - val_loss: 0.4945 - val_acc: 0.7662\n",
      "Epoch 40/50\n",
      "125/125 [==============================] - 56s 450ms/step - loss: 0.3697 - acc: 0.8395 - val_loss: 0.5951 - val_acc: 0.7762\n",
      "Epoch 41/50\n",
      "125/125 [==============================] - 69s 553ms/step - loss: 0.3868 - acc: 0.8385 - val_loss: 0.5093 - val_acc: 0.7662\n",
      "Epoch 42/50\n",
      "125/125 [==============================] - 59s 469ms/step - loss: 0.3659 - acc: 0.8485 - val_loss: 0.5580 - val_acc: 0.7812\n",
      "Epoch 43/50\n",
      "125/125 [==============================] - 57s 457ms/step - loss: 0.3768 - acc: 0.8435 - val_loss: 0.6029 - val_acc: 0.7725\n",
      "Epoch 44/50\n",
      "125/125 [==============================] - 57s 454ms/step - loss: 0.3702 - acc: 0.8455 - val_loss: 0.6452 - val_acc: 0.7700\n",
      "Epoch 45/50\n",
      "125/125 [==============================] - 54s 434ms/step - loss: 0.3468 - acc: 0.8565 - val_loss: 0.5336 - val_acc: 0.7837\n",
      "Epoch 46/50\n",
      "125/125 [==============================] - 58s 466ms/step - loss: 0.3593 - acc: 0.8535 - val_loss: 0.6050 - val_acc: 0.7812\n",
      "Epoch 47/50\n",
      "125/125 [==============================] - 60s 477ms/step - loss: 0.3703 - acc: 0.8510 - val_loss: 0.6870 - val_acc: 0.7388\n",
      "Epoch 48/50\n",
      "125/125 [==============================] - 56s 448ms/step - loss: 0.3736 - acc: 0.8400 - val_loss: 0.6446 - val_acc: 0.7762\n",
      "Epoch 49/50\n",
      "125/125 [==============================] - 58s 464ms/step - loss: 0.3741 - acc: 0.8430 - val_loss: 0.4961 - val_acc: 0.7837\n",
      "Epoch 50/50\n",
      "125/125 [==============================] - 53s 422ms/step - loss: 0.3602 - acc: 0.8440 - val_loss: 0.5013 - val_acc: 0.7738\n"
     ]
    }
   ],
   "source": [
    "model.fit_generator(\n",
    "        train_generator,\n",
    "        steps_per_epoch=2000 // batch_size,\n",
    "        epochs=50,\n",
    "        validation_data=validation_generator,\n",
    "        validation_steps=800 // batch_size)\n",
    "model.save_weights('first_try.h5')"
   ]
  },
  {
   "cell_type": "code",
   "execution_count": null,
   "metadata": {},
   "outputs": [],
   "source": []
  }
 ],
 "metadata": {
  "kernelspec": {
   "display_name": "Python 3",
   "language": "python",
   "name": "python3"
  },
  "language_info": {
   "codemirror_mode": {
    "name": "ipython",
    "version": 3
   },
   "file_extension": ".py",
   "mimetype": "text/x-python",
   "name": "python",
   "nbconvert_exporter": "python",
   "pygments_lexer": "ipython3",
   "version": "3.7.3"
  }
 },
 "nbformat": 4,
 "nbformat_minor": 2
}
